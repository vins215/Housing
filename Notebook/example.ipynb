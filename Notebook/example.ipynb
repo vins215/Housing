{
 "cells": [
  {
   "cell_type": "code",
   "execution_count": 1,
   "metadata": {},
   "outputs": [],
   "source": [
    "from collections import namedtuple"
   ]
  },
  {
   "attachments": {},
   "cell_type": "markdown",
   "metadata": {},
   "source": [
    "1. Download URL\n",
    "2. Download Folder(compressed file)\n",
    "3. Extract Folder (extracted file)\n",
    "4. Train Dataset Folder\n",
    "5. Test Dataset folder\n"
   ]
  },
  {
   "cell_type": "code",
   "execution_count": 4,
   "metadata": {},
   "outputs": [],
   "source": [
    "DataIngestionConfig = namedtuple(\"DataIngestionConfig\" , [\"data_set_download_URL\",\"tgz_download_dir\",\"raw_data_dir\" , \"ingested_train_dir\" , \"ingested_test_dir\"])"
   ]
  },
  {
   "cell_type": "code",
   "execution_count": 5,
   "metadata": {},
   "outputs": [],
   "source": [
    "data_ingestion_config = DataIngestionConfig(data_set_download_URL=\"asadf\",\n",
    "tgz_download_dir='asadsf',\n",
    "raw_data_dir='asadsd',\n",
    "ingested_train_dir='adfg',\n",
    "ingested_test_dir='sdwdewq')"
   ]
  },
  {
   "cell_type": "code",
   "execution_count": 6,
   "metadata": {},
   "outputs": [
    {
     "data": {
      "text/plain": [
       "DataIngestionConfig(data_set_download_URL='asadf', tgz_download_dir='asadsf', raw_data_dir='asadsd', ingested_train_dir='adfg', ingested_test_dir='sdwdewq')"
      ]
     },
     "execution_count": 6,
     "metadata": {},
     "output_type": "execute_result"
    }
   ],
   "source": [
    "data_ingestion_config"
   ]
  },
  {
   "cell_type": "code",
   "execution_count": null,
   "metadata": {},
   "outputs": [],
   "source": []
  }
 ],
 "metadata": {
  "kernelspec": {
   "display_name": "Python 3",
   "language": "python",
   "name": "python3"
  },
  "language_info": {
   "codemirror_mode": {
    "name": "ipython",
    "version": 3
   },
   "file_extension": ".py",
   "mimetype": "text/x-python",
   "name": "python",
   "nbconvert_exporter": "python",
   "pygments_lexer": "ipython3",
   "version": "3.7.0"
  },
  "orig_nbformat": 4,
  "vscode": {
   "interpreter": {
    "hash": "324e221bb3d419632c6a1428756146598c1b6f41da5a8f20c76de8334cca5db9"
   }
  }
 },
 "nbformat": 4,
 "nbformat_minor": 2
}
